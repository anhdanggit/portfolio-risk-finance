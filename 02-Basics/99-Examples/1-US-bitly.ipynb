{
 "cells": [
  {
   "cell_type": "markdown",
   "metadata": {},
   "source": [
    "# Data Analysis Example:"
   ]
  },
  {
   "cell_type": "code",
   "execution_count": 104,
   "metadata": {},
   "outputs": [],
   "source": [
    "import json\n",
    "import pandas as pd\n",
    "import re\n",
    "from collections import defaultdict"
   ]
  },
  {
   "cell_type": "code",
   "execution_count": 46,
   "metadata": {},
   "outputs": [
    {
     "name": "stdout",
     "output_type": "stream",
     "text": [
      "\u001b[34mApplications\u001b[m\u001b[m/           \u001b[34mMovies\u001b[m\u001b[m/                 \u001b[34mcli-ve\u001b[m\u001b[m/\n",
      "AthenaJDBC42_2.0.7.jar  \u001b[34mMusic\u001b[m\u001b[m/                  h2o.jar\n",
      "\u001b[34mCreative Cloud Files\u001b[m\u001b[m/   \u001b[34mPictures\u001b[m\u001b[m/               \u001b[34mh2oflows\u001b[m\u001b[m/\n",
      "\u001b[34mDesktop\u001b[m\u001b[m/                \u001b[34mPublic\u001b[m\u001b[m/                 hello.csv\n",
      "\u001b[34mDistribution\u001b[m\u001b[m/           \u001b[34manaconda3\u001b[m\u001b[m/              postal_shapefile\n",
      "\u001b[34mDocuments\u001b[m\u001b[m/              \u001b[34mapache-maven-3.6.1\u001b[m\u001b[m/     \u001b[34ms3-test\u001b[m\u001b[m/\n",
      "\u001b[34mDownloads\u001b[m\u001b[m/              \u001b[34maws-sdk-java-v2\u001b[m\u001b[m/        test1.pem\n",
      "\u001b[34mIdeaProjects\u001b[m\u001b[m/           \u001b[34mawscli-bundle\u001b[m\u001b[m/\n",
      "\u001b[34mLibrary\u001b[m\u001b[m/                bash_profile\n",
      "/Users/anh.dang/Documents/GitHub/portfolio-risk-finance\n"
     ]
    }
   ],
   "source": [
    "# %pwd\n",
    "# %ls\n",
    "# %cd Documents/GitHub/portfolio-risk-finance"
   ]
  },
  {
   "cell_type": "markdown",
   "metadata": {},
   "source": [
    "## Read `json`"
   ]
  },
  {
   "cell_type": "code",
   "execution_count": 47,
   "metadata": {},
   "outputs": [
    {
     "data": {
      "text/plain": [
       "'{ \"a\": \"Mozilla\\\\/5.0 (Windows NT 6.1; WOW64) AppleWebKit\\\\/535.11 (KHTML, like Gecko) Chrome\\\\/17.0.963.78 Safari\\\\/535.11\", \"c\": \"US\", \"nk\": 1, \"tz\": \"America\\\\/New_York\", \"gr\": \"MA\", \"g\": \"A6qOVH\", \"h\": \"wfLQtf\", \"l\": \"orofrog\", \"al\": \"en-US,en;q=0.8\", \"hh\": \"1.usa.gov\", \"r\": \"http:\\\\/\\\\/www.facebook.com\\\\/l\\\\/7AQEFzjSi\\\\/1.usa.gov\\\\/wfLQtf\", \"u\": \"http:\\\\/\\\\/www.ncbi.nlm.nih.gov\\\\/pubmed\\\\/22415991\", \"t\": 1331923247, \"hc\": 1331822918, \"cy\": \"Danvers\", \"ll\": [ 42.576698, -70.954903 ] }\\n'"
      ]
     },
     "execution_count": 47,
     "metadata": {},
     "output_type": "execute_result"
    }
   ],
   "source": [
    "## read txt data\n",
    "path = '00-Data/bitly_US_gov.txt'\n",
    "open(path).readline() ## json format"
   ]
  },
  {
   "cell_type": "code",
   "execution_count": 70,
   "metadata": {},
   "outputs": [
    {
     "data": {
      "text/plain": [
       "{'a': 'Mozilla/5.0 (Windows NT 6.1; WOW64) AppleWebKit/535.11 (KHTML, like Gecko) Chrome/17.0.963.78 Safari/535.11',\n",
       " 'c': 'US',\n",
       " 'nk': 1,\n",
       " 'tz': 'America/New_York',\n",
       " 'gr': 'MA',\n",
       " 'g': 'A6qOVH',\n",
       " 'h': 'wfLQtf',\n",
       " 'l': 'orofrog',\n",
       " 'al': 'en-US,en;q=0.8',\n",
       " 'hh': '1.usa.gov',\n",
       " 'r': 'http://www.facebook.com/l/7AQEFzjSi/1.usa.gov/wfLQtf',\n",
       " 'u': 'http://www.ncbi.nlm.nih.gov/pubmed/22415991',\n",
       " 't': 1331923247,\n",
       " 'hc': 1331822918,\n",
       " 'cy': 'Danvers',\n",
       " 'll': [42.576698, -70.954903]}"
      ]
     },
     "execution_count": 70,
     "metadata": {},
     "output_type": "execute_result"
    }
   ],
   "source": [
    "## read json data\n",
    "records = [json.loads(line) for line in open(path)]\n",
    "records[0] ## turn to become a dict"
   ]
  },
  {
   "cell_type": "code",
   "execution_count": 60,
   "metadata": {},
   "outputs": [
    {
     "data": {
      "text/plain": [
       "3560"
      ]
     },
     "execution_count": 60,
     "metadata": {},
     "output_type": "execute_result"
    }
   ],
   "source": [
    "len(records)"
   ]
  },
  {
   "cell_type": "markdown",
   "metadata": {},
   "source": [
    "## Count the Time Zone"
   ]
  },
  {
   "cell_type": "code",
   "execution_count": 73,
   "metadata": {},
   "outputs": [
    {
     "data": {
      "text/plain": [
       "['America/New_York',\n",
       " 'America/Denver',\n",
       " 'America/New_York',\n",
       " 'America/Sao_Paulo',\n",
       " 'America/New_York',\n",
       " 'America/New_York',\n",
       " 'Europe/Warsaw',\n",
       " '',\n",
       " '',\n",
       " '']"
      ]
     },
     "execution_count": 73,
     "metadata": {},
     "output_type": "execute_result"
    }
   ],
   "source": [
    "time_zones = [rec['tz'] for rec in records if 'tz' in rec]\n",
    "time_zones[:10]"
   ]
  },
  {
   "cell_type": "code",
   "execution_count": 96,
   "metadata": {},
   "outputs": [
    {
     "data": {
      "text/plain": [
       "America/New_York       1251\n",
       "                        521\n",
       "America/Chicago         400\n",
       "America/Los_Angeles     382\n",
       "America/Denver          191\n",
       "Europe/London            74\n",
       "Asia/Tokyo               37\n",
       "Pacific/Honolulu         36\n",
       "Europe/Madrid            35\n",
       "America/Sao_Paulo        33\n",
       "dtype: int64"
      ]
     },
     "execution_count": 96,
     "metadata": {},
     "output_type": "execute_result"
    }
   ],
   "source": [
    "def get_counts(seq):\n",
    "    counts = {}\n",
    "    for e in seq:\n",
    "        counts[e] = counts.get(e, 0) + 1\n",
    "    return counts\n",
    "tz_cnt = pd.Series(get_counts(time_zones)).sort_values(ascending=False)\n",
    "tz_cnt[:10] ## take top 10"
   ]
  },
  {
   "cell_type": "code",
   "execution_count": 102,
   "metadata": {},
   "outputs": [
    {
     "name": "stdout",
     "output_type": "stream",
     "text": [
      "97\n",
      "74\n"
     ]
    }
   ],
   "source": [
    "def get_counts2(seq):\n",
    "    x = defaultdict(int) ## in fact, create initialize an empty dict which stores int\n",
    "    for e in seq:\n",
    "        x[e] += 1\n",
    "    return x\n",
    "tz_cnt = pd.Series(get_counts2(time_zones)).sort_values(ascending=False)\n",
    "tz_cnt[:10] ## take top 10\n",
    "print(len(tz_cnt))\n",
    "print(tz_cnt['Europe/London'])"
   ]
  },
  {
   "cell_type": "code",
   "execution_count": 117,
   "metadata": {},
   "outputs": [
    {
     "name": "stdout",
     "output_type": "stream",
     "text": [
      "Index(['Asia/Tokyo', 'Asia/Hong_Kong', 'Asia/Calcutta', 'Asia/Istanbul',\n",
      "       'Asia/Bangkok', 'Asia/Seoul', 'Asia/Beirut', 'Asia/Dubai',\n",
      "       'Asia/Karachi', 'Asia/Jerusalem', 'Asia/Kuala_Lumpur', 'Asia/Jakarta',\n",
      "       'Asia/Harbin', 'Asia/Amman', 'Asia/Nicosia', 'Asia/Kuching',\n",
      "       'Asia/Pontianak', 'Asia/Novosibirsk', 'Asia/Yekaterinburg',\n",
      "       'Asia/Manila', 'Asia/Riyadh'],\n",
      "      dtype='object')\n"
     ]
    },
    {
     "data": {
      "text/plain": [
       "3"
      ]
     },
     "execution_count": 117,
     "metadata": {},
     "output_type": "execute_result"
    }
   ],
   "source": [
    "print(tz_cnt.index[tz_cnt.index.str.contains('Asia')])\n",
    "tz_cnt['Asia/Jakarta']"
   ]
  },
  {
   "cell_type": "code",
   "execution_count": 107,
   "metadata": {},
   "outputs": [
    {
     "data": {
      "text/plain": [
       "Index(['America/New_York', '', 'America/Chicago', 'America/Los_Angeles',\n",
       "       'America/Denver', 'Europe/London', 'Asia/Tokyo', 'Pacific/Honolulu',\n",
       "       'Europe/Madrid', 'America/Sao_Paulo', 'Europe/Berlin', 'Europe/Rome',\n",
       "       'America/Rainy_River', 'Europe/Amsterdam', 'America/Phoenix',\n",
       "       'America/Indianapolis', 'Europe/Warsaw', 'America/Mexico_City',\n",
       "       'Europe/Paris', 'Europe/Stockholm', 'America/Vancouver',\n",
       "       'Pacific/Auckland', 'America/Puerto_Rico', 'Europe/Oslo',\n",
       "       'Europe/Moscow', 'Europe/Prague', 'Asia/Hong_Kong', 'Europe/Helsinki',\n",
       "       'Asia/Calcutta', 'Asia/Istanbul', 'America/Montreal', 'Europe/Lisbon',\n",
       "       'Europe/Athens', 'Chile/Continental', 'Europe/Vienna', 'Asia/Bangkok',\n",
       "       'America/Edmonton', 'Australia/NSW', 'Europe/Budapest',\n",
       "       'America/Anchorage', 'Asia/Seoul', 'Europe/Copenhagen', 'Asia/Beirut',\n",
       "       'America/Halifax', 'Asia/Dubai', 'Europe/Bucharest', 'Europe/Zurich',\n",
       "       'America/Winnipeg', 'Europe/Brussels', 'America/Bogota', 'Asia/Karachi',\n",
       "       'Asia/Jerusalem', 'Europe/Dublin', 'Asia/Kuala_Lumpur', 'Africa/Cairo',\n",
       "       'Europe/Bratislava', 'America/Managua', 'Asia/Jakarta', 'Asia/Harbin',\n",
       "       'America/Chihuahua', 'Europe/Malta', 'Europe/Belgrade',\n",
       "       'America/Guayaquil', 'Asia/Amman', 'Africa/Ceuta', 'Europe/Vilnius',\n",
       "       'Europe/Riga', 'America/Recife', 'America/Santo_Domingo',\n",
       "       'America/Argentina/Cordoba', 'Africa/Johannesburg', 'Asia/Nicosia',\n",
       "       'Asia/Kuching', 'Europe/Volgograd', 'America/La_Paz', 'Africa/Lusaka',\n",
       "       'Africa/Casablanca', 'America/St_Kitts', 'Asia/Pontianak',\n",
       "       'America/Mazatlan', 'Europe/Skopje', 'Asia/Novosibirsk', 'Europe/Sofia',\n",
       "       'Europe/Ljubljana', 'America/Monterrey',\n",
       "       'America/Argentina/Buenos_Aires', 'Asia/Yekaterinburg', 'Asia/Manila',\n",
       "       'America/Caracas', 'Asia/Riyadh', 'America/Montevideo',\n",
       "       'America/Argentina/Mendoza', 'Europe/Uzhgorod', 'Australia/Queensland',\n",
       "       'America/Costa_Rica', 'America/Lima', 'America/Tegucigalpa'],\n",
       "      dtype='object')"
      ]
     },
     "execution_count": 107,
     "metadata": {},
     "output_type": "execute_result"
    }
   ],
   "source": [
    "tz_cnt.index[]"
   ]
  },
  {
   "cell_type": "code",
   "execution_count": null,
   "metadata": {},
   "outputs": [],
   "source": []
  }
 ],
 "metadata": {
  "kernelspec": {
   "display_name": "Python 3",
   "language": "python",
   "name": "python3"
  },
  "language_info": {
   "codemirror_mode": {
    "name": "ipython",
    "version": 3
   },
   "file_extension": ".py",
   "mimetype": "text/x-python",
   "name": "python",
   "nbconvert_exporter": "python",
   "pygments_lexer": "ipython3",
   "version": "3.7.3"
  },
  "toc": {
   "base_numbering": 1,
   "nav_menu": {},
   "number_sections": true,
   "sideBar": true,
   "skip_h1_title": false,
   "title_cell": "Table of Contents",
   "title_sidebar": "Contents",
   "toc_cell": false,
   "toc_position": {},
   "toc_section_display": true,
   "toc_window_display": false
  }
 },
 "nbformat": 4,
 "nbformat_minor": 2
}
